{
 "cells": [
  {
   "cell_type": "markdown",
   "metadata": {},
   "source": [
    "# Progetto architettura dati\n",
    "\n",
    "Si parte da un dataset con le seguenti feature:\n",
    "- colonna 1->214: Permission-based features\n",
    "- colonna 215->241: API based features\n",
    "- colonna 242: label (target), dove le classi sono:\n",
    "    - Malware \n",
    "    - Goodware"
   ]
  },
  {
   "cell_type": "code",
   "execution_count": null,
   "metadata": {},
   "outputs": [],
   "source": []
  }
 ],
 "metadata": {
  "language_info": {
   "name": "python"
  }
 },
 "nbformat": 4,
 "nbformat_minor": 2
}
